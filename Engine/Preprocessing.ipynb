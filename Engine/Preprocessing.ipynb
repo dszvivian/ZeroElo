{
 "cells": [
  {
   "cell_type": "code",
   "execution_count": 1,
   "metadata": {},
   "outputs": [
    {
     "name": "stdout",
     "output_type": "stream",
     "text": [
      "         id  rated    created_at  last_move_at  turns victory_status winner   \n",
      "0  TZJHLljE  False  1.504210e+12  1.504210e+12     13      outoftime  white  \\\n",
      "1  l1NXvwaE   True  1.504130e+12  1.504130e+12     16         resign  black   \n",
      "2  mIICvQHh   True  1.504130e+12  1.504130e+12     61           mate  white   \n",
      "3  kWKvrqYL   True  1.504110e+12  1.504110e+12     61           mate  white   \n",
      "4  9tXo1AUZ   True  1.504030e+12  1.504030e+12     95           mate  white   \n",
      "\n",
      "  increment_code       white_id  white_rating      black_id  black_rating   \n",
      "0           15+2       bourgris          1500          a-00          1191  \\\n",
      "1           5+10           a-00          1322     skinnerua          1261   \n",
      "2           5+10         ischia          1496          a-00          1500   \n",
      "3           20+0  daniamurashov          1439  adivanov2009          1454   \n",
      "4           30+3      nik221107          1523  adivanov2009          1469   \n",
      "\n",
      "                                               moves opening_eco   \n",
      "0  d4 d5 c4 c6 cxd5 e6 dxe6 fxe6 Nf3 Bb4+ Nc3 Ba5...         D10  \\\n",
      "1  d4 Nc6 e4 e5 f4 f6 dxe5 fxe5 fxe5 Nxe5 Qd4 Nc6...         B00   \n",
      "2  e4 e5 d3 d6 Be3 c6 Be2 b5 Nd2 a5 a4 c5 axb5 Nc...         C20   \n",
      "3  d4 d5 Nf3 Bf5 Nc3 Nf6 Bf4 Ng4 e3 Nc6 Be2 Qd7 O...         D02   \n",
      "4  e4 e5 Nf3 d6 d4 Nc6 d5 Nb4 a3 Na6 Nc3 Be7 b4 N...         C41   \n",
      "\n",
      "                             opening_name  opening_ply  \n",
      "0        Slav Defense: Exchange Variation            5  \n",
      "1  Nimzowitsch Defense: Kennedy Variation            4  \n",
      "2   King's Pawn Game: Leonardis Variation            3  \n",
      "3  Queen's Pawn Game: Zukertort Variation            3  \n",
      "4                        Philidor Defense            5  \n"
     ]
    }
   ],
   "source": [
    "import numpy as np \n",
    "import pandas as pd\n",
    "\n",
    "\n",
    "df = pd.read_csv(\"../data/games.csv\")\n",
    "\n",
    "print(df.head())"
   ]
  },
  {
   "cell_type": "code",
   "execution_count": 3,
   "metadata": {},
   "outputs": [
    {
     "data": {
      "text/plain": [
       "'d4 d5 c4 c6 cxd5 e6 dxe6 fxe6 Nf3 Bb4+ Nc3 Ba5 Bf4'"
      ]
     },
     "execution_count": 3,
     "metadata": {},
     "output_type": "execute_result"
    }
   ],
   "source": [
    "df['moves'][0]"
   ]
  },
  {
   "cell_type": "code",
   "execution_count": null,
   "metadata": {},
   "outputs": [],
   "source": []
  }
 ],
 "metadata": {
  "kernelspec": {
   "display_name": "Python 3",
   "language": "python",
   "name": "python3"
  },
  "language_info": {
   "codemirror_mode": {
    "name": "ipython",
    "version": 3
   },
   "file_extension": ".py",
   "mimetype": "text/x-python",
   "name": "python",
   "nbconvert_exporter": "python",
   "pygments_lexer": "ipython3",
   "version": "3.10.8"
  }
 },
 "nbformat": 4,
 "nbformat_minor": 2
}
