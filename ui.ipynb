{
 "cells": [
  {
   "cell_type": "code",
   "execution_count": 23,
   "id": "e2c9edcc",
   "metadata": {},
   "outputs": [
    {
     "ename": "ValueError",
     "evalue": "'No' is not in list",
     "output_type": "error",
     "traceback": [
      "\u001b[1;31m---------------------------------------------------------------------------\u001b[0m",
      "\u001b[1;31mValueError\u001b[0m                                Traceback (most recent call last)",
      "\u001b[1;32mc:\\Users\\dszvi\\Desktop\\chess\\ZeroElo\\ui.ipynb Cell 1\u001b[0m line \u001b[0;36m1\n\u001b[0;32m     <a href='vscode-notebook-cell:/c%3A/Users/dszvi/Desktop/chess/ZeroElo/ui.ipynb#W0sZmlsZQ%3D%3D?line=15'>16</a>\u001b[0m moves \u001b[39m+\u001b[39m\u001b[39m=\u001b[39m \u001b[39m1\u001b[39m\n\u001b[0;32m     <a href='vscode-notebook-cell:/c%3A/Users/dszvi/Desktop/chess/ZeroElo/ui.ipynb#W0sZmlsZQ%3D%3D?line=16'>17</a>\u001b[0m \u001b[39mif\u001b[39;00m(\u001b[39mnot\u001b[39;00m board\u001b[39m.\u001b[39mis_game_over()):\n\u001b[1;32m---> <a href='vscode-notebook-cell:/c%3A/Users/dszvi/Desktop/chess/ZeroElo/ui.ipynb#W0sZmlsZQ%3D%3D?line=17'>18</a>\u001b[0m     move \u001b[39m=\u001b[39m chess\u001b[39m.\u001b[39;49mMove\u001b[39m.\u001b[39;49mfrom_uci(\u001b[39mstr\u001b[39;49m(getBestMove(board)))\n\u001b[0;32m     <a href='vscode-notebook-cell:/c%3A/Users/dszvi/Desktop/chess/ZeroElo/ui.ipynb#W0sZmlsZQ%3D%3D?line=18'>19</a>\u001b[0m     board\u001b[39m.\u001b[39mpush(move)\n\u001b[0;32m     <a href='vscode-notebook-cell:/c%3A/Users/dszvi/Desktop/chess/ZeroElo/ui.ipynb#W0sZmlsZQ%3D%3D?line=19'>20</a>\u001b[0m     moves\u001b[39m+\u001b[39m\u001b[39m=\u001b[39m\u001b[39m1\u001b[39m\n",
      "File \u001b[1;32mc:\\Users\\dszvi\\AppData\\Local\\Programs\\Python\\Python310\\lib\\site-packages\\chess\\__init__.py:563\u001b[0m, in \u001b[0;36mMove.from_uci\u001b[1;34m(cls, uci)\u001b[0m\n\u001b[0;32m    561\u001b[0m     \u001b[39mreturn\u001b[39;00m \u001b[39mcls\u001b[39m(square, square, drop\u001b[39m=\u001b[39mdrop)\n\u001b[0;32m    562\u001b[0m \u001b[39melif\u001b[39;00m \u001b[39m4\u001b[39m \u001b[39m<\u001b[39m\u001b[39m=\u001b[39m \u001b[39mlen\u001b[39m(uci) \u001b[39m<\u001b[39m\u001b[39m=\u001b[39m \u001b[39m5\u001b[39m:\n\u001b[1;32m--> 563\u001b[0m     from_square \u001b[39m=\u001b[39m SQUARE_NAMES\u001b[39m.\u001b[39;49mindex(uci[\u001b[39m0\u001b[39;49m:\u001b[39m2\u001b[39;49m])\n\u001b[0;32m    564\u001b[0m     to_square \u001b[39m=\u001b[39m SQUARE_NAMES\u001b[39m.\u001b[39mindex(uci[\u001b[39m2\u001b[39m:\u001b[39m4\u001b[39m])\n\u001b[0;32m    565\u001b[0m     promotion \u001b[39m=\u001b[39m PIECE_SYMBOLS\u001b[39m.\u001b[39mindex(uci[\u001b[39m4\u001b[39m]) \u001b[39mif\u001b[39;00m \u001b[39mlen\u001b[39m(uci) \u001b[39m==\u001b[39m \u001b[39m5\u001b[39m \u001b[39melse\u001b[39;00m \u001b[39mNone\u001b[39;00m\n",
      "\u001b[1;31mValueError\u001b[0m: 'No' is not in list"
     ]
    }
   ],
   "source": [
    "import chess\n",
    "import chess.svg\n",
    "import random\n",
    "from generateMove import getBestMove,getRandomMove,getFirstMove\n",
    "\n",
    "board = chess.Board(\"rnbqkbnr/pppppppp/8/8/8/8/PPPPPPPP/RNBQKBNR\") #Load the starting position\n",
    "\n",
    "\n",
    "\n",
    "moves = 0\n",
    "while not board.is_game_over():\n",
    "    bot1_move = getRandomMove(board)\n",
    "    if(bot1_move in board.legal_moves):\n",
    "        move = chess.Move.from_uci(str(bot1_move))\n",
    "        board.push(move)\n",
    "        moves += 1\n",
    "        if(not board.is_game_over()):\n",
    "            move = chess.Move.from_uci(str(getBestMove(board)))\n",
    "            board.push(move)\n",
    "            moves+=1\n",
    "    else:\n",
    "        print(\"Illegal Move\")\n",
    "\n",
    "        \n",
    "print(moves)        \n",
    "chess.svg.board(board,size=350)\n"
   ]
  }
 ],
 "metadata": {
  "kernelspec": {
   "display_name": "Python 3 (ipykernel)",
   "language": "python",
   "name": "python3"
  },
  "language_info": {
   "codemirror_mode": {
    "name": "ipython",
    "version": 3
   },
   "file_extension": ".py",
   "mimetype": "text/x-python",
   "name": "python",
   "nbconvert_exporter": "python",
   "pygments_lexer": "ipython3",
   "version": "3.10.8"
  }
 },
 "nbformat": 4,
 "nbformat_minor": 5
}
