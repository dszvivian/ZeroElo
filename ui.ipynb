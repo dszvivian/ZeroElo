{
 "cells": [
  {
   "cell_type": "code",
   "execution_count": null,
   "id": "e2c9edcc",
   "metadata": {},
   "outputs": [],
   "source": [
    "import chess\n",
    "import chess.svg\n",
    "import random\n",
    "from generateMove import getBestMove,getBestCaptureRec\n",
    "\n",
    "board = chess.Board(\"rnbqkbnr/pppppppp/8/8/8/8/PPPPPPPP/RNBQKBNR\") #Load the starting position\n",
    "\n",
    "moves = 0\n",
    "while not board.is_game_over():\n",
    "    bot1_move = (board)\n",
    "    if(bot1_move in board.legal_moves):\n",
    "        b1_move = chess.Move.from_uci(str(bot1_move))\n",
    "        board.push(b1_move)\n",
    "        moves += 1\n",
    "        if(not board.is_game_over()):\n",
    "            b2_move = chess.Move.from_uci(str(getBestCaptureRec(board)))\n",
    "            board.push(b2_move)\n",
    "            moves+=1\n",
    "    else:\n",
    "        print(\"Illegal Move\")\n",
    "\n",
    "        \n",
    "print(moves)        \n",
    "chess.svg.board(board,size=350)\n"
   ]
  }
 ],
 "metadata": {
  "kernelspec": {
   "display_name": "Python 3 (ipykernel)",
   "language": "python",
   "name": "python3"
  },
  "language_info": {
   "codemirror_mode": {
    "name": "ipython",
    "version": 3
   },
   "file_extension": ".py",
   "mimetype": "text/x-python",
   "name": "python",
   "nbconvert_exporter": "python",
   "pygments_lexer": "ipython3",
   "version": "3.10.8"
  }
 },
 "nbformat": 4,
 "nbformat_minor": 5
}
