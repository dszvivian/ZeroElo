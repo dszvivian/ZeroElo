{
 "cells": [
  {
   "cell_type": "code",
   "execution_count": 3,
   "id": "e2c9edcc",
   "metadata": {},
   "outputs": [
    {
     "ename": "AttributeError",
     "evalue": "'Board' object has no attribute 'drop'",
     "output_type": "error",
     "traceback": [
      "\u001b[1;31m---------------------------------------------------------------------------\u001b[0m",
      "\u001b[1;31mAttributeError\u001b[0m                            Traceback (most recent call last)",
      "\u001b[1;32mc:\\Users\\dszvi\\Desktop\\chess\\ZeroElo\\ui.ipynb Cell 1\u001b[0m line \u001b[0;36m1\n\u001b[0;32m      <a href='vscode-notebook-cell:/c%3A/Users/dszvi/Desktop/chess/ZeroElo/ui.ipynb#W0sZmlsZQ%3D%3D?line=8'>9</a>\u001b[0m \u001b[39mwhile\u001b[39;00m \u001b[39mnot\u001b[39;00m board\u001b[39m.\u001b[39mis_game_over():\n\u001b[0;32m     <a href='vscode-notebook-cell:/c%3A/Users/dszvi/Desktop/chess/ZeroElo/ui.ipynb#W0sZmlsZQ%3D%3D?line=9'>10</a>\u001b[0m     bot1_move \u001b[39m=\u001b[39m (board)\n\u001b[1;32m---> <a href='vscode-notebook-cell:/c%3A/Users/dszvi/Desktop/chess/ZeroElo/ui.ipynb#W0sZmlsZQ%3D%3D?line=10'>11</a>\u001b[0m     \u001b[39mif\u001b[39;00m(bot1_move \u001b[39min\u001b[39;49;00m board\u001b[39m.\u001b[39;49mlegal_moves):\n\u001b[0;32m     <a href='vscode-notebook-cell:/c%3A/Users/dszvi/Desktop/chess/ZeroElo/ui.ipynb#W0sZmlsZQ%3D%3D?line=11'>12</a>\u001b[0m         b1_move \u001b[39m=\u001b[39m chess\u001b[39m.\u001b[39mMove\u001b[39m.\u001b[39mfrom_uci(\u001b[39mstr\u001b[39m(bot1_move))\n\u001b[0;32m     <a href='vscode-notebook-cell:/c%3A/Users/dszvi/Desktop/chess/ZeroElo/ui.ipynb#W0sZmlsZQ%3D%3D?line=12'>13</a>\u001b[0m         board\u001b[39m.\u001b[39mpush(b1_move)\n",
      "File \u001b[1;32mc:\\Users\\dszvi\\AppData\\Local\\Programs\\Python\\Python310\\lib\\site-packages\\chess\\__init__.py:3738\u001b[0m, in \u001b[0;36mLegalMoveGenerator.__contains__\u001b[1;34m(self, move)\u001b[0m\n\u001b[0;32m   3737\u001b[0m \u001b[39mdef\u001b[39;00m \u001b[39m__contains__\u001b[39m(\u001b[39mself\u001b[39m, move: Move) \u001b[39m-\u001b[39m\u001b[39m>\u001b[39m \u001b[39mbool\u001b[39m:\n\u001b[1;32m-> 3738\u001b[0m     \u001b[39mreturn\u001b[39;00m \u001b[39mself\u001b[39;49m\u001b[39m.\u001b[39;49mboard\u001b[39m.\u001b[39;49mis_legal(move)\n",
      "File \u001b[1;32mc:\\Users\\dszvi\\AppData\\Local\\Programs\\Python\\Python310\\lib\\site-packages\\chess\\__init__.py:1830\u001b[0m, in \u001b[0;36mBoard.is_legal\u001b[1;34m(self, move)\u001b[0m\n\u001b[0;32m   1829\u001b[0m \u001b[39mdef\u001b[39;00m \u001b[39mis_legal\u001b[39m(\u001b[39mself\u001b[39m, move: Move) \u001b[39m-\u001b[39m\u001b[39m>\u001b[39m \u001b[39mbool\u001b[39m:\n\u001b[1;32m-> 1830\u001b[0m     \u001b[39mreturn\u001b[39;00m \u001b[39mnot\u001b[39;00m \u001b[39mself\u001b[39m\u001b[39m.\u001b[39mis_variant_end() \u001b[39mand\u001b[39;00m \u001b[39mself\u001b[39;49m\u001b[39m.\u001b[39;49mis_pseudo_legal(move) \u001b[39mand\u001b[39;00m \u001b[39mnot\u001b[39;00m \u001b[39mself\u001b[39m\u001b[39m.\u001b[39mis_into_check(move)\n",
      "File \u001b[1;32mc:\\Users\\dszvi\\AppData\\Local\\Programs\\Python\\Python310\\lib\\site-packages\\chess\\__init__.py:1786\u001b[0m, in \u001b[0;36mBoard.is_pseudo_legal\u001b[1;34m(self, move)\u001b[0m\n\u001b[0;32m   1783\u001b[0m     \u001b[39mreturn\u001b[39;00m \u001b[39mFalse\u001b[39;00m\n\u001b[0;32m   1785\u001b[0m \u001b[39m# Drops are not pseudo-legal.\u001b[39;00m\n\u001b[1;32m-> 1786\u001b[0m \u001b[39mif\u001b[39;00m move\u001b[39m.\u001b[39;49mdrop:\n\u001b[0;32m   1787\u001b[0m     \u001b[39mreturn\u001b[39;00m \u001b[39mFalse\u001b[39;00m\n\u001b[0;32m   1789\u001b[0m \u001b[39m# Source square must not be vacant.\u001b[39;00m\n",
      "\u001b[1;31mAttributeError\u001b[0m: 'Board' object has no attribute 'drop'"
     ]
    }
   ],
   "source": [
    "import chess\n",
    "import chess.svg\n",
    "import random\n",
    "from generateMove import getBestMove\n",
    "\n",
    "board = chess.Board(\"rnbqkbnr/pppppppp/8/8/8/8/PPPPPPPP/RNBQKBNR\") #Load the starting position\n",
    "\n",
    "moves = 0\n",
    "while not board.is_game_over():\n",
    "    bot1_move = (board)\n",
    "    if(bot1_move in board.legal_moves):\n",
    "        b1_move = chess.Move.from_uci(str(bot1_move))\n",
    "        board.push(b1_move)\n",
    "        moves += 1\n",
    "        if(not board.is_game_over()):\n",
    "            b2_move = chess.Move.from_uci(str(getBestMove(board)))\n",
    "            board.push(b2_move)\n",
    "            moves+=1\n",
    "    else:\n",
    "        print(\"Illegal Move\")\n",
    "\n",
    "        \n",
    "print(moves)        \n",
    "chess.svg.board(board,size=350)\n"
   ]
  }
 ],
 "metadata": {
  "kernelspec": {
   "display_name": "Python 3 (ipykernel)",
   "language": "python",
   "name": "python3"
  },
  "language_info": {
   "codemirror_mode": {
    "name": "ipython",
    "version": 3
   },
   "file_extension": ".py",
   "mimetype": "text/x-python",
   "name": "python",
   "nbconvert_exporter": "python",
   "pygments_lexer": "ipython3",
   "version": "3.10.8"
  }
 },
 "nbformat": 4,
 "nbformat_minor": 5
}
